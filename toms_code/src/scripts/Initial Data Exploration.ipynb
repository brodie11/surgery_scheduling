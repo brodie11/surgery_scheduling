{
 "cells": [
  {
   "cell_type": "code",
   "execution_count": 6,
   "metadata": {},
   "outputs": [
    {
     "ename": "ImportError",
     "evalue": "attempted relative import with no known parent package",
     "output_type": "error",
     "traceback": [
      "\u001b[1;31m---------------------------------------------------------------------------\u001b[0m",
      "\u001b[1;31mImportError\u001b[0m                               Traceback (most recent call last)",
      "Cell \u001b[1;32mIn[6], line 8\u001b[0m\n\u001b[0;32m      5\u001b[0m \u001b[38;5;28;01mimport\u001b[39;00m \u001b[38;5;21;01mpandas\u001b[39;00m \u001b[38;5;28;01mas\u001b[39;00m \u001b[38;5;21;01mpd\u001b[39;00m\n\u001b[0;32m      7\u001b[0m \u001b[38;5;66;03m# from ..configs import DATABASE_DIR, DATA_FILE #TODO change back to DATABASE_DIR, OUTPUT_DB_DIR, DATA_FILE\u001b[39;00m\n\u001b[1;32m----> 8\u001b[0m \u001b[38;5;28;01mfrom\u001b[39;00m \u001b[38;5;21;01m.\u001b[39;00m\u001b[38;5;21;01m.\u001b[39;00m\u001b[38;5;21;01mscheduler_utils\u001b[39;00m \u001b[38;5;28;01mimport\u001b[39;00m (\n\u001b[0;32m      9\u001b[0m   prepare_data, create_schedule_surs, create_schedule_sess)\n\u001b[0;32m     10\u001b[0m \u001b[38;5;66;03m# from ..scheduler_classes import (schedProb, priorityProb)\u001b[39;00m\n\u001b[0;32m     11\u001b[0m \u001b[38;5;66;03m# from ..solution_classes import (Base, get_create_solution,\u001b[39;00m\n\u001b[0;32m     12\u001b[0m \u001b[38;5;66;03m#   create_update_solution_assignments,\u001b[39;00m\n\u001b[0;32m     13\u001b[0m \u001b[38;5;66;03m#   get_solution, get_ses_sur_dict, create_update_solution_transfers)\u001b[39;00m\n\u001b[0;32m     14\u001b[0m \u001b[38;5;66;03m# from ..visualise import create_session_graph\u001b[39;00m\n\u001b[0;32m     17\u001b[0m \u001b[38;5;28;01mif\u001b[39;00m \u001b[38;5;18m__name__\u001b[39m \u001b[38;5;241m==\u001b[39m \u001b[38;5;124m'\u001b[39m\u001b[38;5;124m__main__\u001b[39m\u001b[38;5;124m'\u001b[39m:\n",
      "\u001b[1;31mImportError\u001b[0m: attempted relative import with no known parent package"
     ]
    }
   ],
   "source": []
  }
 ],
 "metadata": {
  "kernelspec": {
   "display_name": "surgeryKernel",
   "language": "python",
   "name": "surgerykernel"
  },
  "language_info": {
   "codemirror_mode": {
    "name": "ipython",
    "version": 3
   },
   "file_extension": ".py",
   "mimetype": "text/x-python",
   "name": "python",
   "nbconvert_exporter": "python",
   "pygments_lexer": "ipython3",
   "version": "3.10.11"
  }
 },
 "nbformat": 4,
 "nbformat_minor": 2
}
